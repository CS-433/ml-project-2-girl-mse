{
  "cells": [
    {
      "cell_type": "markdown",
      "metadata": {
        "id": "k4bGsV2QGZ-k"
      },
      "source": [
        "### ML4Science: BERT: Prediction of EL222 protein conformation based on amino acid sequences.  \n",
        "\n",
        "This is a Notebook for evaluation of a BERT model and corresponding classifier. It is intended for running on Google Colab, since the first part requires GPUs for faster execution. In order to run it, you should put provided folders, utils and data in the owning Google Drive and then just run the script."
      ]
    },
    {
      "cell_type": "markdown",
      "metadata": {
        "id": "AIXpBzF4hasS"
      },
      "source": [
        "Install necessary libraries, that are not present in the Google Colab already."
      ]
    },
    {
      "cell_type": "code",
      "execution_count": 1,
      "metadata": {
        "colab": {
          "base_uri": "https://localhost:8080/"
        },
        "id": "cngbPf6thVpK",
        "outputId": "8688ae65-0764-49ee-bbb3-05eb754f5324"
      },
      "outputs": [
        {
          "name": "stdout",
          "output_type": "stream",
          "text": [
            "Collecting torchmetrics\n",
            "  Downloading torchmetrics-1.2.1-py3-none-any.whl (806 kB)\n",
            "\u001b[2K     \u001b[90m━━━━━━━━━━━━━━━━━━━━━━━━━━━━━━━━━━━━━━━━\u001b[0m \u001b[32m806.1/806.1 kB\u001b[0m \u001b[31m6.2 MB/s\u001b[0m eta \u001b[36m0:00:00\u001b[0m\n",
            "\u001b[?25hRequirement already satisfied: numpy>1.20.0 in /usr/local/lib/python3.10/dist-packages (from torchmetrics) (1.23.5)\n",
            "Requirement already satisfied: packaging>17.1 in /usr/local/lib/python3.10/dist-packages (from torchmetrics) (23.2)\n",
            "Requirement already satisfied: torch>=1.8.1 in /usr/local/lib/python3.10/dist-packages (from torchmetrics) (2.1.0+cu121)\n",
            "Collecting lightning-utilities>=0.8.0 (from torchmetrics)\n",
            "  Downloading lightning_utilities-0.10.0-py3-none-any.whl (24 kB)\n",
            "Requirement already satisfied: setuptools in /usr/local/lib/python3.10/dist-packages (from lightning-utilities>=0.8.0->torchmetrics) (67.7.2)\n",
            "Requirement already satisfied: typing-extensions in /usr/local/lib/python3.10/dist-packages (from lightning-utilities>=0.8.0->torchmetrics) (4.5.0)\n",
            "Requirement already satisfied: filelock in /usr/local/lib/python3.10/dist-packages (from torch>=1.8.1->torchmetrics) (3.13.1)\n",
            "Requirement already satisfied: sympy in /usr/local/lib/python3.10/dist-packages (from torch>=1.8.1->torchmetrics) (1.12)\n",
            "Requirement already satisfied: networkx in /usr/local/lib/python3.10/dist-packages (from torch>=1.8.1->torchmetrics) (3.2.1)\n",
            "Requirement already satisfied: jinja2 in /usr/local/lib/python3.10/dist-packages (from torch>=1.8.1->torchmetrics) (3.1.2)\n",
            "Requirement already satisfied: fsspec in /usr/local/lib/python3.10/dist-packages (from torch>=1.8.1->torchmetrics) (2023.6.0)\n",
            "Requirement already satisfied: triton==2.1.0 in /usr/local/lib/python3.10/dist-packages (from torch>=1.8.1->torchmetrics) (2.1.0)\n",
            "Requirement already satisfied: MarkupSafe>=2.0 in /usr/local/lib/python3.10/dist-packages (from jinja2->torch>=1.8.1->torchmetrics) (2.1.3)\n",
            "Requirement already satisfied: mpmath>=0.19 in /usr/local/lib/python3.10/dist-packages (from sympy->torch>=1.8.1->torchmetrics) (1.3.0)\n",
            "Installing collected packages: lightning-utilities, torchmetrics\n",
            "Successfully installed lightning-utilities-0.10.0 torchmetrics-1.2.1\n",
            "Collecting datasets\n",
            "  Downloading datasets-2.15.0-py3-none-any.whl (521 kB)\n",
            "\u001b[2K     \u001b[90m━━━━━━━━━━━━━━━━━━━━━━━━━━━━━━━━━━━━━━━━\u001b[0m \u001b[32m521.2/521.2 kB\u001b[0m \u001b[31m4.2 MB/s\u001b[0m eta \u001b[36m0:00:00\u001b[0m\n",
            "\u001b[?25hRequirement already satisfied: numpy>=1.17 in /usr/local/lib/python3.10/dist-packages (from datasets) (1.23.5)\n",
            "Requirement already satisfied: pyarrow>=8.0.0 in /usr/local/lib/python3.10/dist-packages (from datasets) (10.0.1)\n",
            "Collecting pyarrow-hotfix (from datasets)\n",
            "  Downloading pyarrow_hotfix-0.6-py3-none-any.whl (7.9 kB)\n",
            "Collecting dill<0.3.8,>=0.3.0 (from datasets)\n",
            "  Downloading dill-0.3.7-py3-none-any.whl (115 kB)\n",
            "\u001b[2K     \u001b[90m━━━━━━━━━━━━━━━━━━━━━━━━━━━━━━━━━━━━━━━━\u001b[0m \u001b[32m115.3/115.3 kB\u001b[0m \u001b[31m6.8 MB/s\u001b[0m eta \u001b[36m0:00:00\u001b[0m\n",
            "\u001b[?25hRequirement already satisfied: pandas in /usr/local/lib/python3.10/dist-packages (from datasets) (1.5.3)\n",
            "Requirement already satisfied: requests>=2.19.0 in /usr/local/lib/python3.10/dist-packages (from datasets) (2.31.0)\n",
            "Requirement already satisfied: tqdm>=4.62.1 in /usr/local/lib/python3.10/dist-packages (from datasets) (4.66.1)\n",
            "Requirement already satisfied: xxhash in /usr/local/lib/python3.10/dist-packages (from datasets) (3.4.1)\n",
            "Collecting multiprocess (from datasets)\n",
            "  Downloading multiprocess-0.70.15-py310-none-any.whl (134 kB)\n",
            "\u001b[2K     \u001b[90m━━━━━━━━━━━━━━━━━━━━━━━━━━━━━━━━━━━━━━━━\u001b[0m \u001b[32m134.8/134.8 kB\u001b[0m \u001b[31m7.6 MB/s\u001b[0m eta \u001b[36m0:00:00\u001b[0m\n",
            "\u001b[?25hRequirement already satisfied: fsspec[http]<=2023.10.0,>=2023.1.0 in /usr/local/lib/python3.10/dist-packages (from datasets) (2023.6.0)\n",
            "Requirement already satisfied: aiohttp in /usr/local/lib/python3.10/dist-packages (from datasets) (3.9.1)\n",
            "Requirement already satisfied: huggingface-hub>=0.18.0 in /usr/local/lib/python3.10/dist-packages (from datasets) (0.19.4)\n",
            "Requirement already satisfied: packaging in /usr/local/lib/python3.10/dist-packages (from datasets) (23.2)\n",
            "Requirement already satisfied: pyyaml>=5.1 in /usr/local/lib/python3.10/dist-packages (from datasets) (6.0.1)\n",
            "Requirement already satisfied: attrs>=17.3.0 in /usr/local/lib/python3.10/dist-packages (from aiohttp->datasets) (23.1.0)\n",
            "Requirement already satisfied: multidict<7.0,>=4.5 in /usr/local/lib/python3.10/dist-packages (from aiohttp->datasets) (6.0.4)\n",
            "Requirement already satisfied: yarl<2.0,>=1.0 in /usr/local/lib/python3.10/dist-packages (from aiohttp->datasets) (1.9.4)\n",
            "Requirement already satisfied: frozenlist>=1.1.1 in /usr/local/lib/python3.10/dist-packages (from aiohttp->datasets) (1.4.0)\n",
            "Requirement already satisfied: aiosignal>=1.1.2 in /usr/local/lib/python3.10/dist-packages (from aiohttp->datasets) (1.3.1)\n",
            "Requirement already satisfied: async-timeout<5.0,>=4.0 in /usr/local/lib/python3.10/dist-packages (from aiohttp->datasets) (4.0.3)\n",
            "Requirement already satisfied: filelock in /usr/local/lib/python3.10/dist-packages (from huggingface-hub>=0.18.0->datasets) (3.13.1)\n",
            "Requirement already satisfied: typing-extensions>=3.7.4.3 in /usr/local/lib/python3.10/dist-packages (from huggingface-hub>=0.18.0->datasets) (4.5.0)\n",
            "Requirement already satisfied: charset-normalizer<4,>=2 in /usr/local/lib/python3.10/dist-packages (from requests>=2.19.0->datasets) (3.3.2)\n",
            "Requirement already satisfied: idna<4,>=2.5 in /usr/local/lib/python3.10/dist-packages (from requests>=2.19.0->datasets) (3.6)\n",
            "Requirement already satisfied: urllib3<3,>=1.21.1 in /usr/local/lib/python3.10/dist-packages (from requests>=2.19.0->datasets) (2.0.7)\n",
            "Requirement already satisfied: certifi>=2017.4.17 in /usr/local/lib/python3.10/dist-packages (from requests>=2.19.0->datasets) (2023.11.17)\n",
            "Requirement already satisfied: python-dateutil>=2.8.1 in /usr/local/lib/python3.10/dist-packages (from pandas->datasets) (2.8.2)\n",
            "Requirement already satisfied: pytz>=2020.1 in /usr/local/lib/python3.10/dist-packages (from pandas->datasets) (2023.3.post1)\n",
            "Requirement already satisfied: six>=1.5 in /usr/local/lib/python3.10/dist-packages (from python-dateutil>=2.8.1->pandas->datasets) (1.16.0)\n",
            "Installing collected packages: pyarrow-hotfix, dill, multiprocess, datasets\n",
            "Successfully installed datasets-2.15.0 dill-0.3.7 multiprocess-0.70.15 pyarrow-hotfix-0.6\n"
          ]
        }
      ],
      "source": [
        "!pip install torchmetrics\n",
        "!pip install datasets"
      ]
    },
    {
      "cell_type": "markdown",
      "metadata": {
        "id": "n2l7xJBwhlq9"
      },
      "source": [
        "Mount Google Drive."
      ]
    },
    {
      "cell_type": "code",
      "execution_count": 2,
      "metadata": {
        "colab": {
          "base_uri": "https://localhost:8080/"
        },
        "id": "ZV9JTmXthi5I",
        "outputId": "47542667-ff0c-4e91-f85e-d71d82156a0c"
      },
      "outputs": [
        {
          "name": "stdout",
          "output_type": "stream",
          "text": [
            "Mounted at /content/gdrive\n"
          ]
        }
      ],
      "source": [
        "from google.colab import drive\n",
        "drive.mount('/content/gdrive')"
      ]
    },
    {
      "cell_type": "code",
      "execution_count": 3,
      "metadata": {
        "id": "3rTdbdU4hoYN"
      },
      "outputs": [],
      "source": [
        "import torch\n",
        "import torch.nn as nn\n",
        "import torch.nn.functional as F\n",
        "import torch.optim as optim\n",
        "from transformers import AutoTokenizer, AutoModel\n",
        "from torch.utils.data import DataLoader, TensorDataset, ConcatDataset, SubsetRandomSampler\n",
        "import pandas as pd\n",
        "import random\n",
        "import numpy as np\n",
        "from torchmetrics.classification import BinaryF1Score\n",
        "import sys\n",
        "import matplotlib.pyplot as plt\n",
        "\n",
        "sys.path.append(\"/content/gdrive/My Drive/\")\n",
        "import ipywidgets as widgets\n",
        "from types import SimpleNamespace\n",
        "from utils import data, evaluation, models\n",
        "\n",
        "from sklearn.metrics import accuracy_score\n",
        "from sklearn.metrics import f1_score\n",
        "from sklearn.model_selection import KFold\n",
        "\n",
        "import math\n",
        "\n",
        "from transformers import logging"
      ]
    },
    {
      "cell_type": "code",
      "execution_count": 4,
      "metadata": {
        "colab": {
          "base_uri": "https://localhost:8080/"
        },
        "id": "U3iU7dtphsHD",
        "outputId": "c3ca8cfc-7beb-40fb-b8ef-09196f076a86"
      },
      "outputs": [
        {
          "name": "stdout",
          "output_type": "stream",
          "text": [
            "cuda\n"
          ]
        }
      ],
      "source": [
        "# Set seeds\n",
        "seed = 128\n",
        "torch.backends.cudnn.deterministic = True\n",
        "torch.backends.cudnn.benchmark = False\n",
        "random.seed(seed)\n",
        "np.random.seed(seed)\n",
        "torch.manual_seed(seed)\n",
        "torch.cuda.manual_seed(seed)\n",
        "\n",
        "# Set device\n",
        "device = torch.device(\"cuda\" if torch.cuda.is_available() else \"cpu\")"
      ]
    },
    {
      "cell_type": "markdown",
      "metadata": {
        "id": "flhT3-3XHiUZ"
      },
      "source": [
        "Set all the parameters necessary for the BERT model, as well as the data for training."
      ]
    },
    {
      "cell_type": "code",
      "execution_count": 5,
      "metadata": {
        "id": "IRbpSRsThvD9"
      },
      "outputs": [],
      "source": [
        "from weakref import ProxyType\n",
        "kmer = 2\n",
        "mask_length = kmer\n",
        "vocab = [\"A\", \"R\", \"N\", \"D\", \"C\", \"E\", \"Q\", \"G\", \"H\", \"I\", \"L\", \"K\", \"M\", \"F\", \"S\", \"P\", \"T\", \"W\", \"Y\", \"V\", \"-\"]\n",
        "VOCAB_1MER = [\"[PAD]\", \"[UNK]\", \"[CLS]\", \"[SEP]\"] + data.make_2aa_comb(vocab)\n",
        "\n",
        "raw_training_data = data.load_csv(\"/content/gdrive/My Drive/data/all_train.csv\")\n",
        "raw_test_data = data.load_csv(\"/content/gdrive/My Drive/data/all_test.csv\")\n",
        "dataset_train_size = len(raw_training_data)\n",
        "dataset_test_size = len(raw_test_data)\n",
        "prot_max_len = 153\n",
        "batch_size = 512\n",
        "max_prot_mask = 50\n",
        "num_layers = 3\n",
        "num_heads = 6\n",
        "prot_config = SimpleNamespace(\n",
        "        vocab_size=len(VOCAB_1MER),\n",
        "        hidden_size=120,\n",
        "        max_position_embeddings=prot_max_len,\n",
        "        type_vocab_size=1,\n",
        "        layer_norm_eps=1e-12,\n",
        "        hidden_dropout_prob=0.1,\n",
        "        attention_probs_dropout_prob=0.0,\n",
        "        num_attention_heads=num_heads,\n",
        "        hidden_act=\"gelu\",\n",
        "        intermediate_size=160,\n",
        "        num_hidden_layers=num_layers,\n",
        "        is_decoder=False,\n",
        "        output_attentions=True,\n",
        "        output_hidden_states=True,\n",
        "        pruned_heads = {},\n",
        "        initializer_range=0.02,\n",
        "        device=device\n",
        "    )"
      ]
    },
    {
      "cell_type": "code",
      "execution_count": 6,
      "metadata": {
        "colab": {
          "base_uri": "https://localhost:8080/"
        },
        "id": "O1RuzRXxh6WO",
        "outputId": "4d008c44-c37a-42cf-bd76-a095a50542bf"
      },
      "outputs": [
        {
          "name": "stdout",
          "output_type": "stream",
          "text": [
            "Number of trainable model parameters: 427525\n"
          ]
        }
      ],
      "source": [
        "tokenizer = data.Tokenizer(k=kmer, vocab=VOCAB_1MER)\n",
        "input_ids, segment_ids, masked_lm_labels, labels_idx, labels, attention_masks = data.generate_masked_data(raw_training_data, tokenizer, max_len=prot_max_len, max_mask=max_prot_mask, k=mask_length, mask_rate=0.05, max_size=dataset_train_size)\n",
        "test_input_ids, test_segment_ids, test_masked_lm_labels, test_labels_idx, test_labels, test_attention_masks = data.generate_masked_data(raw_test_data, tokenizer, max_len=prot_max_len, max_mask=max_prot_mask, k=mask_length, mask_rate=0.05, max_size=dataset_test_size)\n",
        "model = models.BertForMaskedLM(config=prot_config, positional_embedding=models.PositionalEmbedding, attention=models.BertSelfAttention).to(device)\n",
        "optimizer = optim.AdamW(model.parameters(), lr=0.001)\n",
        "print(f\"Number of trainable model parameters: {models.number_of_model_parameters(model)}\")\n",
        "\n",
        "train_dataset = TensorDataset(input_ids, segment_ids, masked_lm_labels, labels_idx, labels, attention_masks)\n",
        "train_loader = DataLoader(train_dataset, batch_size=batch_size, shuffle=True)\n",
        "\n",
        "test_dataset = TensorDataset(test_input_ids, test_segment_ids, test_masked_lm_labels, test_labels_idx, test_labels, test_attention_masks)\n",
        "test_loader = DataLoader(test_dataset, batch_size=batch_size, shuffle=False)"
      ]
    },
    {
      "cell_type": "markdown",
      "metadata": {
        "id": "BkJcGcC9IR91"
      },
      "source": [
        "Train BERT model on auxiliary task."
      ]
    },
    {
      "cell_type": "code",
      "execution_count": 7,
      "metadata": {
        "colab": {
          "base_uri": "https://localhost:8080/"
        },
        "id": "SXx24WatiAqv",
        "outputId": "aaf80670-88b9-44be-d5ab-7ae8311ab0a7"
      },
      "outputs": [
        {
          "name": "stdout",
          "output_type": "stream",
          "text": [
            "Epoch: 0010 train cost = 3.801566 eval cost = 3.814154\n",
            "Epoch: 0020 train cost = 3.330490 eval cost = 3.422602\n",
            "Epoch: 0030 train cost = 3.113935 eval cost = 3.264568\n",
            "Epoch: 0040 train cost = 2.942203 eval cost = 3.165613\n",
            "Epoch: 0050 train cost = 2.774781 eval cost = 3.090015\n",
            "Epoch: 0060 train cost = 2.602838 eval cost = 2.992952\n",
            "Epoch: 0070 train cost = 2.403016 eval cost = 2.927864\n",
            "Epoch: 0080 train cost = 2.201657 eval cost = 2.871229\n",
            "Epoch: 0090 train cost = 1.986781 eval cost = 2.775978\n",
            "Epoch: 0100 train cost = 1.752478 eval cost = 2.658372\n",
            "Epoch: 0110 train cost = 1.519545 eval cost = 2.550620\n",
            "Epoch: 0120 train cost = 1.300979 eval cost = 2.475284\n",
            "Epoch: 0130 train cost = 1.108724 eval cost = 2.422105\n",
            "Epoch: 0140 train cost = 0.942551 eval cost = 2.403046\n",
            "Epoch: 0150 train cost = 0.815374 eval cost = 2.418616\n",
            "Train Acc = 0.844767 Eval Acc = 0.530390\n"
          ]
        }
      ],
      "source": [
        "for epoch in range(150):\n",
        "\n",
        "  total_train_loss = 0\n",
        "  model.train()\n",
        "\n",
        "  for batch_input_ids, batch_segment_ids, batch_masked_lm_labels, _, _, batch_attention_mask in train_loader:\n",
        "\n",
        "    optimizer.zero_grad()\n",
        "\n",
        "    # Get output of the model\n",
        "    loss, outputs, hidden_states, _ = model(\n",
        "        input_ids=batch_input_ids.to(device),\n",
        "        token_type_ids=batch_segment_ids.to(device),\n",
        "        masked_lm_labels=batch_masked_lm_labels.to(device),\n",
        "        attention_mask=batch_attention_mask.to(device)\n",
        "    )\n",
        "\n",
        "    loss.backward()\n",
        "    optimizer.step()\n",
        "    total_train_loss += loss.item()\n",
        "\n",
        "  # Average obtained loss\n",
        "  avg_train_loss = total_train_loss / len(train_loader)\n",
        "\n",
        "  # Do evaluation every 10 training epochs\n",
        "  if (epoch + 1) % 10 == 0:\n",
        "\n",
        "    model.eval()\n",
        "    total_eval_loss = 0\n",
        "\n",
        "    for batch_input_ids, batch_segment_ids, batch_masked_lm_labels, _, _, batch_attention_mask in test_loader:\n",
        "      with torch.no_grad():\n",
        "\n",
        "        loss, outputs, hidden_states, _ = model(\n",
        "          input_ids=batch_input_ids.to(device),\n",
        "          token_type_ids=batch_segment_ids.to(device),\n",
        "          masked_lm_labels=batch_masked_lm_labels.to(device),\n",
        "          attention_mask=batch_attention_mask.to(device)\n",
        "        )\n",
        "\n",
        "        if batch_attention_mask.sum() - torch.numel(batch_attention_mask) > 0 :\n",
        "          print(\"found patting\", batch_attention_mask.sum())\n",
        "\n",
        "        total_eval_loss += loss.item()\n",
        "\n",
        "    avg_eval_loss = total_eval_loss / len(test_loader)\n",
        "    print('Epoch:', '%04d' % (epoch + 1), 'train cost =', '{:.6f}'.format(avg_train_loss), 'eval cost =', '{:.6f}'.format(avg_eval_loss))\n",
        "\n",
        "# Print obtaned accuracies\n",
        "average_train_acc, _ = evaluation.model_masked_label_accuracy(model, train_loader, device)\n",
        "average_test_acc, last_test_attention = evaluation.model_masked_label_accuracy(model, test_loader, device)\n",
        "print('Train Acc =', '{:.6f}'.format(average_train_acc), 'Eval Acc =', '{:.6f}'.format(average_test_acc))"
      ]
    },
    {
      "cell_type": "markdown",
      "metadata": {
        "id": "5b3hhia7iJzY"
      },
      "source": [
        "Here the work is done for the auxiliary task. Now we should train implemented classifier, which is fully-connected neural network."
      ]
    },
    {
      "cell_type": "code",
      "execution_count": 8,
      "metadata": {
        "id": "840NnyLTiTz2"
      },
      "outputs": [],
      "source": [
        "# Load all the necessary data make data loader\n",
        "on_sequences_path = \"/content/gdrive/My Drive/data/all_on_sequences_v2.txt\"\n",
        "off_sequences_path = \"/content/gdrive/My Drive/data/all_off_sequences_v2.txt\"\n",
        "raw_training_data, raw_test_data = data.balance_data(off_sequences_path, on_sequences_path, balance=True)\n",
        "dataset, train_dataset, test_dataset = data.create_datasets(raw_training_data, raw_test_data, tokenizer, dna_max_len, mask_length, max_dna_mask, task=\"classifier\")"
      ]
    },
    {
      "cell_type": "markdown",
      "metadata": {
        "id": "IqOZKgRsk5Ti"
      },
      "source": [
        "Classifier on top of the BERT model."
      ]
    },
    {
      "cell_type": "code",
      "execution_count": 115,
      "metadata": {
        "id": "qcxRo8i-ihuV"
      },
      "outputs": [],
      "source": [
        "# Define the classifier - linear layers\n",
        "# define the binary classifier\n",
        "\n",
        "class SequenceClassifier(nn.Module):\n",
        "  \"\"\"\n",
        "  We use model pretraied on auxiliary task for classification.\n",
        "  \"\"\"\n",
        "  def __init__(self, model, hidden_layers=[512, 256, 128, 64, 32], output_dim=1, dropout=0.0, activation=nn.ReLU()):\n",
        "    \"\"\"\n",
        "    Initialize the classifier.\n",
        "\n",
        "    Args:\n",
        "      model (nn.Module): A pre-trained model.\n",
        "      hidden_layers (list): Sizes of the layers.\n",
        "      output_dim (int): Since we are doing classification, output_dim is 1.\n",
        "      activation (callable): The activation function to apply after each hidden layer.\n",
        "    \"\"\"\n",
        "    super(SequenceClassifier, self).__init__()\n",
        "\n",
        "    # Use the pretrained model\n",
        "    self.model = model\n",
        "\n",
        "    # Create ModuleList with all the layers\n",
        "    self.layer_sizes = [model.config.hidden_size] + hidden_layers + [output_dim]\n",
        "    self.layers = nn.ModuleList()\n",
        "    self.dropout = dropout\n",
        "    self.activation = activation\n",
        "    self.sigmoid = nn.Sigmoid()\n",
        "\n",
        "    # Create hidden layers\n",
        "    for i in range(len(self.layer_sizes)-1):\n",
        "      self.layers.append(nn.Linear(self.layer_sizes[i], self.layer_sizes[i+1]))\n",
        "      if i < (len(self.layer_sizes)-2): # No dropout or activation on the last layer\n",
        "        self.layers.append(nn.Dropout(dropout))\n",
        "        self.layers.append(activation)\n",
        "\n",
        "  def forward(self, input_ids):\n",
        "    \"\"\"\n",
        "    We do forward pass on the new model with classification head.\n",
        "\n",
        "    Args:\n",
        "      input_ids (torch.Tensor): Inputs necessary for auxiliary task for pretraining.\n",
        "\n",
        "    Returns:\n",
        "      output (torch.Tensor): Output from last classification layer.\n",
        "    \"\"\"\n",
        "    _, hidden_states, _ = self.model(input_ids=input_ids)\n",
        "\n",
        "    last_hidden_state = hidden_states[-1]\n",
        "\n",
        "    out = last_hidden_state[:, 0, :] # the first token is the CLS token\n",
        "    for layer in self.layers[:-1]:\n",
        "      out = self.activation(layer(out))\n",
        "      out = F.dropout(out, p=self.dropout, training=self.training) # If the model is in evaluation mode, no dropout will be applied\n",
        "\n",
        "    out = self.layers[-1](out)\n",
        "\n",
        "    return self.sigmoid(out)"
      ]
    },
    {
      "cell_type": "code",
      "execution_count": 116,
      "metadata": {
        "id": "YzSzbndzk8q4"
      },
      "outputs": [],
      "source": [
        "# Freeze BERT parameters\n",
        "for param in model.parameters():\n",
        "  param.requires_grad = False\n",
        "\n",
        "criterion = nn.BCELoss()\n",
        "\n",
        "# Define parameters for cross-validation\n",
        "mode = \"other\"\n",
        "num_epochs = 250\n",
        "k_folds = 5\n",
        "splits = KFold(n_splits=k_folds, shuffle=True, random_state=42)\n",
        "history = {'train_loss': [], 'test_loss': []}\n",
        "batch_size = 16"
      ]
    },
    {
      "cell_type": "markdown",
      "metadata": {
        "id": "rOrAkZWNl2IZ"
      },
      "source": [
        "Define the function that is going to represent one training epoch."
      ]
    },
    {
      "cell_type": "code",
      "execution_count": 117,
      "metadata": {
        "id": "_YnWy1fQnW8j"
      },
      "outputs": [],
      "source": [
        "# Function for calculating the accuracy\n",
        "def classification_accuracy(model, data_loader, device):\n",
        "    correct_predictions = 0\n",
        "    total_count = 0\n",
        "    for input_ids, labels in data_loader:\n",
        "        with torch.no_grad():\n",
        "            input_ids = input_ids.to(device)\n",
        "            labels = labels.float().unsqueeze(dim=1).to(device)\n",
        "\n",
        "            logits = model(input_ids)\n",
        "\n",
        "            preds = (logits > 0.5).float()\n",
        "            correct_predictions += (preds == labels).sum().item()\n",
        "            total_count += len(labels)\n",
        "\n",
        "    accuracy = correct_predictions / total_count\n",
        "\n",
        "    return accuracy"
      ]
    },
    {
      "cell_type": "markdown",
      "metadata": {
        "id": "D-hOxNjSptL1"
      },
      "source": [
        "One train epoch."
      ]
    },
    {
      "cell_type": "code",
      "execution_count": 118,
      "metadata": {
        "id": "oQV1l8_Il6UO"
      },
      "outputs": [],
      "source": [
        "def train_epoch(classifier, device, dataloader, criterion, optimizer):\n",
        "  \"\"\"\n",
        "  Trains the model for one epoch.\n",
        "\n",
        "  Args:\n",
        "    classifier (nn.Module): Model we are training.\n",
        "    device (\"cpu\" or \"cuda\"): Device at which we are doing training.\n",
        "    dataloader (torch.DataLoader): Dataset data-loader.\n",
        "    criterion (callable): Loss function use for training.\n",
        "    optimizer (torch.optim): Optimizer used for training.\n",
        "\n",
        "  Returns:\n",
        "    train_loss (float): Train loss over all batches.\n",
        "\n",
        "  \"\"\"\n",
        "  # Set model into train mode\n",
        "  train_loss = 0.0\n",
        "  for input_ids, class_labels in dataloader:\n",
        "    input_ids = input_ids.to(device)\n",
        "    class_labels = class_labels.float().unsqueeze(dim=1).to(device)\n",
        "\n",
        "    # Reset gradients of all tracked variables\n",
        "    optimizer.zero_grad()\n",
        "    logits = classifier(input_ids)\n",
        "    loss = criterion(logits, class_labels)\n",
        "\n",
        "    # Calculate the loss for model outputs\n",
        "    loss.backward()\n",
        "    optimizer.step()\n",
        "    train_loss += loss.item()\n",
        "\n",
        "  return train_loss / len(dataloader)"
      ]
    },
    {
      "cell_type": "markdown",
      "metadata": {
        "id": "SmwiS_PnqOOo"
      },
      "source": [
        "Validation epoch."
      ]
    },
    {
      "cell_type": "code",
      "execution_count": 119,
      "metadata": {
        "id": "2ALxlRElp_95"
      },
      "outputs": [],
      "source": [
        "def valid_epoch(classifier, device, dataloader, criterion):\n",
        "  \"\"\"\n",
        "  Evaluate one epoch of trained model.\n",
        "\n",
        "  Args:\n",
        "    model (nn.Module): Model we are training.\n",
        "    device (\"cpu\" or \"cuda\"): Device at which we are doing training.\n",
        "    dataloader (torch.DataLoader): Dataset data-loader.\n",
        "    criterion (callable): Loss function use for training.\n",
        "\n",
        "  Returns:\n",
        "    valid_loss (float): Validation loss over all batches.\n",
        "  \"\"\"\n",
        "\n",
        "  # Set the model to evaluation mode\n",
        "  valid_loss = 0.0\n",
        "  classifier.eval()\n",
        "\n",
        "  for input_ids, class_labels in dataloader:\n",
        "    with torch.no_grad():\n",
        "\n",
        "      input_ids = input_ids.to(device)\n",
        "      class_labels = class_labels.float().unsqueeze(dim=1).to(device)\n",
        "\n",
        "      # Make predictions\n",
        "      logits = classifier(input_ids)\n",
        "      loss = criterion(logits, class_labels)\n",
        "      valid_loss += loss.item()\n",
        "\n",
        "  return valid_loss / len(dataloader)"
      ]
    },
    {
      "cell_type": "markdown",
      "metadata": {
        "id": "g7jKcHOMrwm_"
      },
      "source": [
        "Cross-validation for the one specified set of hyperparameters (those are the best one that hyperparameter tuning from run.py yielded)."
      ]
    },
    {
      "cell_type": "code",
      "execution_count": 120,
      "metadata": {
        "colab": {
          "base_uri": "https://localhost:8080/",
          "height": 1000
        },
        "id": "alQENev4rzdd",
        "outputId": "1cb2bf1e-b681-4bf2-f6df-dc444bc68981"
      },
      "outputs": [
        {
          "name": "stdout",
          "output_type": "stream",
          "text": [
            "Fold: 0001\n",
            "Epoch: 0001 train cost = 0.694664 val cost = 0.698864\n",
            "Epoch: 0011 train cost = 0.692559 val cost = 0.697071\n",
            "Epoch: 0021 train cost = 0.687965 val cost = 0.693924\n",
            "Epoch: 0031 train cost = 0.681828 val cost = 0.689534\n",
            "Epoch: 0041 train cost = 0.669974 val cost = 0.681040\n",
            "Epoch: 0051 train cost = 0.649391 val cost = 0.664749\n",
            "Epoch: 0061 train cost = 0.607586 val cost = 0.635728\n",
            "Epoch: 0071 train cost = 0.544685 val cost = 0.596412\n",
            "Epoch: 0081 train cost = 0.489137 val cost = 0.552522\n",
            "Epoch: 0091 train cost = 0.435561 val cost = 0.522556\n",
            "Epoch: 0101 train cost = 0.424307 val cost = 0.489822\n",
            "Epoch: 0111 train cost = 0.395503 val cost = 0.486000\n",
            "Epoch: 0121 train cost = 0.395771 val cost = 0.480801\n",
            "Epoch: 0131 train cost = 0.384214 val cost = 0.480960\n",
            "Epoch: 0141 train cost = 0.402241 val cost = 0.489688\n",
            "Epoch: 0151 train cost = 0.395099 val cost = 0.462413\n",
            "Epoch: 0161 train cost = 0.361684 val cost = 0.452715\n",
            "Epoch: 0171 train cost = 0.377393 val cost = 0.445894\n",
            "Epoch: 0181 train cost = 0.358996 val cost = 0.460985\n",
            "Epoch: 0191 train cost = 0.352921 val cost = 0.440665\n",
            "Epoch: 0201 train cost = 0.355689 val cost = 0.441143\n",
            "Epoch: 0211 train cost = 0.355486 val cost = 0.432485\n",
            "Epoch: 0221 train cost = 0.355260 val cost = 0.447706\n",
            "Epoch: 0231 train cost = 0.377216 val cost = 0.442970\n",
            "Epoch: 0241 train cost = 0.309470 val cost = 0.425945\n",
            "Fold: 0002\n",
            "Epoch: 0001 train cost = 0.698037 val cost = 0.684506\n",
            "Epoch: 0011 train cost = 0.693631 val cost = 0.680670\n",
            "Epoch: 0021 train cost = 0.687414 val cost = 0.673590\n",
            "Epoch: 0031 train cost = 0.674915 val cost = 0.656346\n",
            "Epoch: 0041 train cost = 0.651528 val cost = 0.627797\n",
            "Epoch: 0051 train cost = 0.620789 val cost = 0.584440\n",
            "Epoch: 0061 train cost = 0.583435 val cost = 0.521848\n",
            "Epoch: 0071 train cost = 0.545059 val cost = 0.454354\n",
            "Epoch: 0081 train cost = 0.507251 val cost = 0.402339\n",
            "Epoch: 0091 train cost = 0.489005 val cost = 0.364663\n",
            "Epoch: 0101 train cost = 0.473847 val cost = 0.357107\n",
            "Epoch: 0111 train cost = 0.442493 val cost = 0.347550\n",
            "Epoch: 0121 train cost = 0.434249 val cost = 0.342309\n",
            "Epoch: 0131 train cost = 0.404520 val cost = 0.330210\n",
            "Epoch: 0141 train cost = 0.424119 val cost = 0.336957\n",
            "Epoch: 0151 train cost = 0.362736 val cost = 0.338079\n",
            "Epoch: 0161 train cost = 0.386731 val cost = 0.334692\n",
            "Epoch: 0171 train cost = 0.380433 val cost = 0.331989\n",
            "Epoch: 0181 train cost = 0.343894 val cost = 0.320906\n",
            "Epoch: 0191 train cost = 0.336610 val cost = 0.318498\n",
            "Epoch: 0201 train cost = 0.366892 val cost = 0.317124\n",
            "Epoch: 0211 train cost = 0.364285 val cost = 0.305118\n",
            "Epoch: 0221 train cost = 0.326470 val cost = 0.306456\n",
            "Epoch: 0231 train cost = 0.306999 val cost = 0.297684\n",
            "Epoch: 0241 train cost = 0.309374 val cost = 0.308330\n",
            "Fold: 0003\n",
            "Epoch: 0001 train cost = 0.693368 val cost = 0.691549\n",
            "Epoch: 0011 train cost = 0.690650 val cost = 0.689817\n",
            "Epoch: 0021 train cost = 0.686842 val cost = 0.686647\n",
            "Epoch: 0031 train cost = 0.679961 val cost = 0.680806\n",
            "Epoch: 0041 train cost = 0.664824 val cost = 0.667922\n",
            "Epoch: 0051 train cost = 0.642960 val cost = 0.646733\n",
            "Epoch: 0061 train cost = 0.600749 val cost = 0.613602\n",
            "Epoch: 0071 train cost = 0.539340 val cost = 0.568164\n",
            "Epoch: 0081 train cost = 0.491830 val cost = 0.528906\n",
            "Epoch: 0091 train cost = 0.426828 val cost = 0.515099\n",
            "Epoch: 0101 train cost = 0.415147 val cost = 0.516518\n",
            "Epoch: 0111 train cost = 0.403813 val cost = 0.518017\n",
            "Epoch: 0121 train cost = 0.401109 val cost = 0.520830\n",
            "Epoch: 0131 train cost = 0.411722 val cost = 0.510700\n",
            "Epoch: 0141 train cost = 0.378523 val cost = 0.493692\n",
            "Epoch: 0151 train cost = 0.331932 val cost = 0.492892\n",
            "Epoch: 0161 train cost = 0.363423 val cost = 0.490021\n",
            "Epoch: 0171 train cost = 0.343597 val cost = 0.499030\n",
            "Epoch: 0181 train cost = 0.353351 val cost = 0.510548\n",
            "Epoch: 0191 train cost = 0.340384 val cost = 0.493577\n",
            "Epoch: 0201 train cost = 0.342250 val cost = 0.493793\n",
            "Epoch: 0211 train cost = 0.342008 val cost = 0.480118\n",
            "Epoch: 0221 train cost = 0.331385 val cost = 0.456864\n",
            "Epoch: 0231 train cost = 0.358053 val cost = 0.497856\n",
            "Epoch: 0241 train cost = 0.334721 val cost = 0.470053\n",
            "Fold: 0004\n",
            "Epoch: 0001 train cost = 0.693443 val cost = 0.692435\n",
            "Epoch: 0011 train cost = 0.688644 val cost = 0.687471\n",
            "Epoch: 0021 train cost = 0.681154 val cost = 0.680992\n",
            "Epoch: 0031 train cost = 0.668974 val cost = 0.669582\n",
            "Epoch: 0041 train cost = 0.652082 val cost = 0.652702\n",
            "Epoch: 0051 train cost = 0.616496 val cost = 0.624634\n",
            "Epoch: 0061 train cost = 0.569358 val cost = 0.587951\n",
            "Epoch: 0071 train cost = 0.514729 val cost = 0.554173\n",
            "Epoch: 0081 train cost = 0.484577 val cost = 0.539204\n",
            "Epoch: 0091 train cost = 0.443055 val cost = 0.533081\n",
            "Epoch: 0101 train cost = 0.417087 val cost = 0.532957\n",
            "Epoch: 0111 train cost = 0.398894 val cost = 0.526240\n",
            "Epoch: 0121 train cost = 0.407286 val cost = 0.527180\n",
            "Epoch: 0131 train cost = 0.361118 val cost = 0.511583\n",
            "Epoch: 0141 train cost = 0.393629 val cost = 0.518784\n",
            "Epoch: 0151 train cost = 0.376628 val cost = 0.512965\n",
            "Epoch: 0161 train cost = 0.411722 val cost = 0.522158\n",
            "Epoch: 0171 train cost = 0.369563 val cost = 0.518572\n",
            "Epoch: 0181 train cost = 0.378801 val cost = 0.504497\n",
            "Epoch: 0191 train cost = 0.370402 val cost = 0.501799\n",
            "Epoch: 0201 train cost = 0.346452 val cost = 0.496530\n",
            "Epoch: 0211 train cost = 0.354985 val cost = 0.498857\n",
            "Epoch: 0221 train cost = 0.300664 val cost = 0.486809\n",
            "Epoch: 0231 train cost = 0.338061 val cost = 0.504670\n",
            "Epoch: 0241 train cost = 0.313889 val cost = 0.507650\n",
            "Fold: 0005\n",
            "Epoch: 0001 train cost = 0.695338 val cost = 0.686377\n",
            "Epoch: 0011 train cost = 0.691391 val cost = 0.683087\n",
            "Epoch: 0021 train cost = 0.686203 val cost = 0.677863\n",
            "Epoch: 0031 train cost = 0.678832 val cost = 0.670627\n",
            "Epoch: 0041 train cost = 0.668377 val cost = 0.658677\n",
            "Epoch: 0051 train cost = 0.651197 val cost = 0.637773\n",
            "Epoch: 0061 train cost = 0.628896 val cost = 0.607653\n",
            "Epoch: 0071 train cost = 0.580144 val cost = 0.561039\n",
            "Epoch: 0081 train cost = 0.521618 val cost = 0.507624\n",
            "Epoch: 0091 train cost = 0.492262 val cost = 0.464556\n",
            "Epoch: 0101 train cost = 0.471154 val cost = 0.441832\n",
            "Epoch: 0111 train cost = 0.445900 val cost = 0.429570\n",
            "Epoch: 0121 train cost = 0.431371 val cost = 0.413011\n",
            "Epoch: 0131 train cost = 0.428765 val cost = 0.414333\n",
            "Epoch: 0141 train cost = 0.394842 val cost = 0.416881\n",
            "Epoch: 0151 train cost = 0.414180 val cost = 0.430506\n",
            "Epoch: 0161 train cost = 0.395765 val cost = 0.423101\n",
            "Epoch: 0171 train cost = 0.413781 val cost = 0.417110\n",
            "Epoch: 0181 train cost = 0.399431 val cost = 0.404543\n",
            "Epoch: 0191 train cost = 0.354724 val cost = 0.391650\n",
            "Epoch: 0201 train cost = 0.352196 val cost = 0.408634\n",
            "Epoch: 0211 train cost = 0.318372 val cost = 0.442099\n",
            "Epoch: 0221 train cost = 0.310037 val cost = 0.429009\n",
            "Epoch: 0231 train cost = 0.334091 val cost = 0.413297\n",
            "Epoch: 0241 train cost = 0.303199 val cost = 0.426550\n"
          ]
        },
        {
          "data": {
            "image/png": "[encoded data removed]",
            "text/plain": [
              "<Figure size 800x1000 with 1 Axes>"
            ]
          },
          "metadata": {},
          "output_type": "display_data"
        },
        {
          "name": "stdout",
          "output_type": "stream",
          "text": [
            "0.819047619047619\n"
          ]
        }
      ],
      "source": [
        "avg_test_acc = 0.0\n",
        "torch.manual_seed(42)\n",
        "for fold, (train_idx, val_idx) in enumerate(splits.split(np.arange(len(dataset)))):\n",
        "\n",
        "  print('Fold:', '%04d' % (fold + 1))\n",
        "  # Generate train and test splits for this fold\n",
        "  train_samples = SubsetRandomSampler(train_idx)\n",
        "  test_samples = SubsetRandomSampler(val_idx)\n",
        "\n",
        "  # Create DataLoaders for the samples\n",
        "  train_loader = DataLoader(dataset, batch_size=batch_size, sampler=train_samples)\n",
        "  test_loader = DataLoader(dataset, batch_size=batch_size, sampler=test_samples)\n",
        "\n",
        "  # Here you can set specific parameters of the model\n",
        "  classifier = SequenceClassifier(model).to(device)\n",
        "  optimizer = optim.AdamW(classifier.parameters(), lr=0.0001, weight_decay=0.004)\n",
        "\n",
        "  for epoch in range(num_epochs):\n",
        "    classifier.train()\n",
        "    train_loss = train_epoch(classifier, device, train_loader, criterion, optimizer)\n",
        "    test_loss = valid_epoch(classifier, device, test_loader, criterion)\n",
        "    if epoch % 10 == 0:\n",
        "      print('Epoch:', '%04d' % (epoch + 1), 'train cost =', '{:.6f}'.format(train_loss), 'val cost =', '{:.6f}'.format(test_loss))\n",
        "\n",
        "    history['train_loss'].append(train_loss)\n",
        "    history['test_loss'].append(test_loss)\n",
        "\n",
        "  # Take accuracy of last epoch as a final accuracy of a fold\n",
        "  avg_test_acc += classification_accuracy(classifier, test_loader, device)\n",
        "\n",
        "  # Plot the train and test accuracy\n",
        "  # Plot the train and test loss if this is specified only for the last fold\n",
        "  if mode != \"hyperparameter_tuning\" and fold == k_folds - 1:\n",
        "    plt.figure(figsize=(8, 10))\n",
        "    # Loss subplot\n",
        "    plt.plot(np.arange(num_epochs), history['train_loss'], label='train loss')\n",
        "    plt.plot(np.arange(num_epochs), history['test_loss'], label='test loss')\n",
        "    plt.title(\"Loss comparison on train and test sets on the last fold\")\n",
        "    plt.legend()\n",
        "    plt.show()\n",
        "\n",
        "  history['train_loss'].clear()\n",
        "  history['test_loss'].clear()\n",
        "\n",
        "test_acc_results = avg_test_acc / k_folds\n",
        "print(test_acc_results)\n"
      ]
    }
  ],
  "metadata": {
    "accelerator": "GPU",
    "colab": {
      "gpuType": "T4",
      "provenance": []
    },
    "kernelspec": {
      "display_name": "Python 3",
      "name": "python3"
    },
    "language_info": {
      "name": "python"
    }
  },
  "nbformat": 4,
  "nbformat_minor": 0
}
